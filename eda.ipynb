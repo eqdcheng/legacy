{
 "cells": [
  {
   "cell_type": "code",
   "execution_count": null,
   "id": "8946d5b4",
   "metadata": {},
   "outputs": [],
   "source": [
    "import kagglehub\n",
    "\n",
    "path = kagglehub.dataset_download(\"thedevastator/nlp-mental-health-conversations\")\n",
    "\n",
    "print(\"Path to dataset files:\", path)"
   ]
  },
  {
   "cell_type": "code",
   "execution_count": null,
   "id": "a3354365",
   "metadata": {},
   "outputs": [],
   "source": [
    "import pandas as pd\n",
    "import matplotlib.pyplot as plt\n",
    "\n",
    "# Load data\n",
    "df = pd.read_csv('data/counseling_conversations.csv')\n",
    "\n",
    "# Basic exploration\n",
    "print(f\"Dataset shape: {df.shape}\")\n",
    "print(f\"Columns: {df.columns.tolist()}\")\n",
    "print(f\"Null values:\\n{df.isnull().sum()}\")\n",
    "\n",
    "# Sample conversations\n",
    "df.head()"
   ]
  },
  {
   "cell_type": "code",
   "execution_count": null,
   "id": "6701b8de",
   "metadata": {},
   "outputs": [],
   "source": [
    "# Response length distribution\n",
    "df['response_length'] = df['Response'].str.len()\n",
    "df['response_length'].hist(bins=50)\n",
    "\n",
    "# Common patterns\n",
    "print(\"Average response length:\", df['response_length'].mean())\n",
    "print(\"Sample responses by length:\")\n",
    "for percentile in [25, 50, 75]:\n",
    "    idx = df['response_length'].quantile(percentile/100)\n",
    "    print(f\"{percentile}th percentile example:\")\n",
    "    print(df[df['response_length'].abs().sub(idx).abs().idxmin()]['Response'][:200])"
   ]
  },
  {
   "cell_type": "code",
   "execution_count": null,
   "id": "9ac91544",
   "metadata": {},
   "outputs": [],
   "source": [
    "from sentence_transformers import SentenceTransformer\n",
    "\n",
    "# Test on 5 samples\n",
    "model = SentenceTransformer('all-MiniLM-L6-v2')\n",
    "test_contexts = df['Context'].head(5).tolist()\n",
    "embeddings = model.encode(test_contexts)\n",
    "print(f\"Embedding shape: {embeddings.shape}\")"
   ]
  }
 ],
 "metadata": {
  "kernelspec": {
   "display_name": "legacy",
   "language": "python",
   "name": "python3"
  },
  "language_info": {
   "name": "python",
   "version": "3.9.13"
  }
 },
 "nbformat": 4,
 "nbformat_minor": 5
}
